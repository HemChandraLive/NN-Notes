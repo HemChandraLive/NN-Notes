{
 "cells": [
  {
   "cell_type": "markdown",
   "metadata": {},
   "source": [
    "# Approximating functions using Sigmoid Perceptrons\n",
    "\n",
    "In Multi-layer Feed Forward neural networks, you can observe a new found capability of a perceptron to learn non-linearly separable data sets. You have witnessed that networks with 2 or more layers, that can learn a non-linear decision boundary.  \n",
    "\n",
    "Here, you will be presented with an example, which aims to show, a function can be approximated using the Sigmoid."
   ]
  },
  {
   "cell_type": "markdown",
   "metadata": {},
   "source": [
    "Before we continue, here is how a Sigmoid function looks like"
   ]
  },
  {
   "cell_type": "markdown",
   "metadata": {},
   "source": [
    "![Sigmoid with Positive weights](Images/P-Sigmoid.png)"
   ]
  },
  {
   "cell_type": "markdown",
   "metadata": {},
   "source": [
    "Now, let us consider that we want to approximate the function below:\n",
    "\n",
    "$$\n",
    "\\begin{align}\n",
    "    f(x) = \n",
    "    \\begin{cases}\n",
    "        1 \\ \\ \\text{if } 4 \\le x \\le 6 \\\\\n",
    "        0 \\ \\ \\text{Otherwise}\n",
    "    \\end{cases}\n",
    "\\end{align}\n",
    "$$"
   ]
  },
  {
   "cell_type": "markdown",
   "metadata": {},
   "source": [
    "The graph of $f(x)$ is as follows"
   ]
  },
  {
   "cell_type": "markdown",
   "metadata": {},
   "source": [
    "![Function f](Images/f.png)"
   ]
  },
  {
   "cell_type": "markdown",
   "metadata": {},
   "source": [
    "We use a sigmoid function to approximate the function. Conside the below arrangement...\n",
    "Below is a sigmoid function represented in red, that has very large positive weights."
   ]
  }
 ],
 "metadata": {
  "kernelspec": {
   "display_name": "Python 3",
   "language": "python",
   "name": "python3"
  },
  "language_info": {
   "codemirror_mode": {
    "name": "ipython",
    "version": 3
   },
   "file_extension": ".py",
   "mimetype": "text/x-python",
   "name": "python",
   "nbconvert_exporter": "python",
   "pygments_lexer": "ipython3",
   "version": "3.7.0"
  }
 },
 "nbformat": 4,
 "nbformat_minor": 2
}
