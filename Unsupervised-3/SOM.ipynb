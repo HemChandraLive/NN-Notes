{
 "cells": [
  {
   "cell_type": "markdown",
   "metadata": {},
   "source": [
    "# Self Organizing Map(SOM)"
   ]
  },
  {
   "cell_type": "markdown",
   "metadata": {},
   "source": [
    "A ***self-organizing map*** (SOM) or ***self-organizing feature map*** (SOFM) is a type of artificial neural network (ANN) that is trained using unsupervised learning to produce a low-dimensional (typically two-dimensional), discretized representation of the input space of the training samples, called a map, and is therefore a method to do dimensionality reduction. Self-organizing maps differ from other artificial neural networks as they apply **competitive learning** as opposed to error-correction learning (such as backpropagation with gradient descent), and in the sense that they use a neighborhood function to preserve the topological properties of the input space."
   ]
  },
  {
   "cell_type": "markdown",
   "metadata": {},
   "source": [
    "<img src=\"./Images/SOM.png\" />"
   ]
  },
  {
   "cell_type": "markdown",
   "metadata": {},
   "source": [
    "* A Self-Organizing Map (SOM) is a way to represent higher dimensional data in an usually 2-D or 3-D manner, such that similar data is grouped together.\n",
    "\n",
    "* It runs unsupervised and performs the grouping on its own.\n",
    "\n",
    "* Once the SOM converges, it can only classify new data.  It is unlike traditional neural nets which are continuously learning and adapting.\n",
    "\n",
    "* SOMs run in two phases:\n",
    "    1. *Training phase*: map is built, network organizes using a competitive process, it is trained using large numbers of inputs (or the same input vectors can be administered multiple times).\n",
    "    2. *Mapping phase*: new vectors are quickly given a location on the converged map, easily classifying or categorizing the new data."
   ]
  },
  {
   "cell_type": "markdown",
   "metadata": {},
   "source": [
    "## Training \n",
    "\n",
    "So how does the SOM grid learn the shape of our data? Well, this is done in an iterative process, which is summarized in the following steps, and visualized in the animated GIF below:\n",
    "\n",
    "**Step 0**: Randomly position the grid’s neurons in the data space.\n",
    "\n",
    "**Step 1**: Select one data point, either randomly or systematically cycling through the dataset in order\n",
    "\n",
    "**Step 2**: Find the neuron that is closest to the chosen data point. This neuron is called the Best Matching Unit (BMU).\n",
    "\n",
    "**Step 3**: Move the BMU closer to that data point. The distance moved by the BMU is determined by a learning rate, which decreases after each iteration.\n",
    "\n",
    "**Step 4**: Move the BMU’s neighbors closer to that data point as well, with farther away neighbors moving less. Neighbors are identified using a radius around the BMU, and the value for this radius decreases after each iteration.\n",
    "\n",
    "**Step 5**: Update the learning rate and BMU radius, before repeating Steps 1 to 4. Iterate these steps until positions of neurons have been stabilized."
   ]
  },
  {
   "cell_type": "markdown",
   "metadata": {},
   "source": [
    "<img src=\"Images/som-explaingif.gif\" />"
   ]
  },
  {
   "cell_type": "markdown",
   "metadata": {},
   "source": [
    "## Examples\n",
    "\n",
    "Let us see SOM in action. We shall do the followin two tasks:\n",
    "1. Represent a list of 3D color vectors (R, G, B) in 2D space such that similar colors end up together\n",
    "2. Create a map fo the Iris dataset"
   ]
  },
  {
   "cell_type": "code",
   "execution_count": 1,
   "metadata": {},
   "outputs": [],
   "source": [
    "from minisom import MiniSom\n",
    "\n",
    "import numpy as np\n",
    "import matplotlib.pyplot as plt\n",
    "from matplotlib.gridspec import GridSpec\n",
    "%matplotlib inline"
   ]
  },
  {
   "cell_type": "markdown",
   "metadata": {},
   "source": [
    "## Color mapping"
   ]
  },
  {
   "cell_type": "code",
   "execution_count": 2,
   "metadata": {},
   "outputs": [
    {
     "name": "stdout",
     "output_type": "stream",
     "text": [
      "Training...\n",
      "\n",
      "...ready!\n"
     ]
    },
    {
     "data": {
      "text/plain": [
       "<matplotlib.collections.PolyCollection at 0x10ddce6a0>"
      ]
     },
     "execution_count": 2,
     "metadata": {},
     "output_type": "execute_result"
    },
    {
     "data": {
      "image/png": "[encoded data removed]",
      "text/plain": [
       "<Figure size 504x504 with 1 Axes>"
      ]
     },
     "metadata": {
      "needs_background": "light"
     },
     "output_type": "display_data"
    }
   ],
   "source": [
    "# Create random colors\n",
    "raw_data = np.random.randint(0, 255, (100, 3))\n",
    "# print(raw_data)\n",
    "\n",
    "# data normalization\n",
    "data = raw_data / 255\n",
    "# Initialization and training\n",
    "som = MiniSom(5, 5, 3, sigma=3, learning_rate=0.5, \n",
    "              neighborhood_function='triangle', random_seed=10)\n",
    "som.random_weights_init(data)\n",
    "# som.pca_weights_init(data)\n",
    "print(\"Training...\")\n",
    "som.train_random(data, 5000)  # random training\n",
    "print(\"\\n...ready!\")\n",
    "\n",
    "plt.figure(figsize=(7, 7))\n",
    "# Plotting the response for each pattern in the iris dataset\n",
    "plt.pcolor(som.distance_map(), cmap='jet')  # plotting the distance map as background\n"
   ]
  },
  {
   "cell_type": "markdown",
   "metadata": {},
   "source": [
    "## Iris "
   ]
  },
  {
   "cell_type": "code",
   "execution_count": 3,
   "metadata": {},
   "outputs": [
    {
     "name": "stdout",
     "output_type": "stream",
     "text": [
      "Training...\n",
      "\n",
      "...ready!\n"
     ]
    },
    {
     "data": {
      "image/png": "[encoded data removed]",
      "text/plain": [
       "<Figure size 504x504 with 1 Axes>"
      ]
     },
     "metadata": {
      "needs_background": "light"
     },
     "output_type": "display_data"
    }
   ],
   "source": [
    "data = np.genfromtxt('./Data/iris.csv', delimiter=',', usecols=(1, 2, 3), skip_header=1)\n",
    "\n",
    "# data normalization\n",
    "data = np.apply_along_axis(lambda x: x/np.linalg.norm(x), 1, data)\n",
    "# Initialization and training\n",
    "som = MiniSom(7, 7, 3, sigma=3, learning_rate=0.5, \n",
    "              neighborhood_function='triangle', random_seed=10)\n",
    "#som.random_weights_init(data)\n",
    "som.pca_weights_init(data)\n",
    "print(\"Training...\")\n",
    "som.train_random(data, 4000)  # random training\n",
    "print(\"\\n...ready!\")\n",
    "\n",
    "plt.figure(figsize=(7, 7))\n",
    "# Plotting the response for each pattern in the iris dataset\n",
    "plt.pcolor(som.distance_map().T, cmap='bone_r')  # plotting the distance map as background\n",
    "#plt.colorbar()\n",
    "\n",
    "target = np.genfromtxt('./Data/iris.csv', delimiter=',', usecols=(5), dtype=str, skip_header=1)\n",
    "t = np.zeros(len(target), dtype=int)\n",
    "t[target == 'Iris-setosa'] = 0\n",
    "t[target == 'Iris-versicolor'] = 1\n",
    "t[target == 'Iris-virginica'] = 2\n",
    "\n",
    "# use different colors and markers for each label\n",
    "markers = ['o', 's', 'D']\n",
    "colors = ['C0', 'C1', 'C2']\n",
    "for cnt, xx in enumerate(data):\n",
    "    w = som.winner(xx)  # getting the winner\n",
    "    # palce a marker on the winning position for the sample xx\n",
    "    plt.plot(w[0]+.5, w[1]+.5, markers[t[cnt]], markerfacecolor='None',\n",
    "             markeredgecolor=colors[t[cnt]], markersize=12, markeredgewidth=2)\n",
    "plt.axis([0, 7, 0, 7])\n",
    "plt.show()"
   ]
  },
  {
   "cell_type": "code",
   "execution_count": null,
   "metadata": {},
   "outputs": [],
   "source": []
  }
 ],
 "metadata": {
  "kernelspec": {
   "display_name": "Python 3",
   "language": "python",
   "name": "python3"
  },
  "language_info": {
   "codemirror_mode": {
    "name": "ipython",
    "version": 3
   },
   "file_extension": ".py",
   "mimetype": "text/x-python",
   "name": "python",
   "nbconvert_exporter": "python",
   "pygments_lexer": "ipython3",
   "version": "3.6.4"
  }
 },
 "nbformat": 4,
 "nbformat_minor": 2
}
