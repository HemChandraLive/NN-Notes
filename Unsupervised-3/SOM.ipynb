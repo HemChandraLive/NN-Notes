{
 "cells": [
  {
   "cell_type": "markdown",
   "metadata": {},
   "source": [
    "# Self Organizing Map(SOM)"
   ]
  },
  {
   "cell_type": "markdown",
   "metadata": {},
   "source": [
    "A ***self-organizing map*** (SOM) or ***self-organizing feature map*** (SOFM) is a type of artificial neural network (ANN) that is trained using unsupervised learning to produce a low-dimensional (typically two-dimensional), discretized representation of the input space of the training samples, called a map, and is therefore a method to do dimensionality reduction. Self-organizing maps differ from other artificial neural networks as they apply **competitive learning** as opposed to error-correction learning (such as backpropagation with gradient descent), and in the sense that they use a neighborhood function to preserve the topological properties of the input space."
   ]
  },
  {
   "cell_type": "markdown",
   "metadata": {},
   "source": [
    "<img src=\"./Images/SOM.png\" />"
   ]
  },
  {
   "cell_type": "markdown",
   "metadata": {},
   "source": [
    "* A Self-Organizing Map (SOM) is a way to represent higher dimensional data in an usually 2-D or 3-D manner, such that similar data is grouped together.\n",
    "\n",
    "* It runs unsupervised and performs the grouping on its own.\n",
    "\n",
    "* Once the SOM converges, it can only classify new data.  It is unlike traditional neural nets which are continuously learning and adapting.\n",
    "\n",
    "* SOMs run in two phases:\n",
    "    1. *Training phase*: map is built, network organizes using a competitive process, it is trained using large numbers of inputs (or the same input vectors can be administered multiple times).\n",
    "    2. *Mapping phase*: new vectors are quickly given a location on the converged map, easily classifying or categorizing the new data."
   ]
  },
  {
   "cell_type": "markdown",
   "metadata": {},
   "source": [
    "## Training \n",
    "\n",
    "So how does the SOM grid learn the shape of our data? Well, this is done in an iterative process, which is summarized in the following steps, and visualized in the animated GIF below:\n",
    "\n",
    "**Step 0**: Randomly position the grid’s neurons in the data space.\n",
    "\n",
    "**Step 1**: Select one data point, either randomly or systematically cycling through the dataset in order\n",
    "\n",
    "**Step 2**: Find the neuron that is closest to the chosen data point. This neuron is called the Best Matching Unit (BMU).\n",
    "\n",
    "**Step 3**: Move the BMU closer to that data point. The distance moved by the BMU is determined by a learning rate, which decreases after each iteration.\n",
    "\n",
    "**Step 4**: Move the BMU’s neighbors closer to that data point as well, with farther away neighbors moving less. Neighbors are identified using a radius around the BMU, and the value for this radius decreases after each iteration.\n",
    "\n",
    "**Step 5**: Update the learning rate and BMU radius, before repeating Steps 1 to 4. Iterate these steps until positions of neurons have been stabilized."
   ]
  },
  {
   "cell_type": "markdown",
   "metadata": {},
   "source": [
    "<img src=\"Images/som-explaingif.gif\" />"
   ]
  },
  {
   "cell_type": "markdown",
   "metadata": {},
   "source": [
    "## Examples\n",
    "\n",
    "Let us see SOM in action. We shall do the followin two tasks:\n",
    "1. Represent a list of 3D color vectors (R, G, B) in 2D space such that similar colors end up together\n",
    "2. Create a map fo the Iris dataset"
   ]
  },
  {
   "cell_type": "code",
   "execution_count": 1,
   "metadata": {},
   "outputs": [],
   "source": [
    "from minisom import MiniSom\n",
    "\n",
    "import numpy as np\n",
    "import matplotlib.pyplot as plt\n",
    "from matplotlib.gridspec import GridSpec\n",
    "%matplotlib inline"
   ]
  },
  {
   "cell_type": "markdown",
   "metadata": {},
   "source": [
    "## Color mapping"
   ]
  },
  {
   "cell_type": "code",
   "execution_count": 2,
   "metadata": {},
   "outputs": [
    {
     "name": "stdout",
     "output_type": "stream",
     "text": [
      "Training...\n",
      "\n",
      "...ready!\n"
     ]
    },
    {
     "data": {
      "text/plain": [
       "<matplotlib.collections.PolyCollection at 0x119630f60>"
      ]
     },
     "execution_count": 2,
     "metadata": {},
     "output_type": "execute_result"
    },
    {
     "data": {
      "image/png": "[encoded data removed]",
      "text/plain": [
       "<Figure size 504x504 with 1 Axes>"
      ]
     },
     "metadata": {
      "needs_background": "light"
     },
     "output_type": "display_data"
    }
   ],
   "source": [
    "# Create random colors\n",
    "raw_data = np.random.randint(0, 255, (100, 3))\n",
    "# print(raw_data)\n",
    "\n",
    "# data normalization\n",
    "data = raw_data / 255\n",
    "# Initialization and training\n",
    "som = MiniSom(5, 5, 3, sigma=3, learning_rate=0.5, \n",
    "              neighborhood_function='triangle', random_seed=10)\n",
    "som.random_weights_init(data)\n",
    "# som.pca_weights_init(data)\n",
    "print(\"Training...\")\n",
    "som.train_random(data, 5000)  # random training\n",
    "print(\"\\n...ready!\")\n",
    "\n",
    "plt.figure(figsize=(7, 7))\n",
    "# Plotting the response for each pattern in the iris dataset\n",
    "plt.pcolor(som.distance_map(), cmap='jet')  # plotting the distance map as background\n"
   ]
  },
  {
   "cell_type": "markdown",
   "metadata": {},
   "source": [
    "## Iris "
   ]
  },
  {
   "cell_type": "code",
   "execution_count": 3,
   "metadata": {},
   "outputs": [
    {
     "name": "stdout",
     "output_type": "stream",
     "text": [
      "Training...\n",
      "\n",
      "...ready!\n"
     ]
    },
    {
     "data": {
      "image/png": "[encoded data removed]",
      "text/plain": [
       "<Figure size 504x504 with 1 Axes>"
      ]
     },
     "metadata": {
      "needs_background": "light"
     },
     "output_type": "display_data"
    }
   ],
   "source": [
    "data = np.genfromtxt('./Data/iris.csv', delimiter=',', usecols=(1, 2, 3), skip_header=1)\n",
    "\n",
    "# data normalization\n",
    "data = np.apply_along_axis(lambda x: x/np.linalg.norm(x), 1, data)\n",
    "# Initialization and training\n",
    "som = MiniSom(7, 7, 3, sigma=3, learning_rate=0.5, \n",
    "              neighborhood_function='triangle', random_seed=10)\n",
    "#som.random_weights_init(data)\n",
    "som.pca_weights_init(data)\n",
    "print(\"Training...\")\n",
    "som.train_random(data, 4000)  # random training\n",
    "print(\"\\n...ready!\")\n",
    "\n",
    "plt.figure(figsize=(7, 7))\n",
    "# Plotting the response for each pattern in the iris dataset\n",
    "plt.pcolor(som.distance_map().T, cmap='bone_r')  # plotting the distance map as background\n",
    "#plt.colorbar()\n",
    "\n",
    "target = np.genfromtxt('./Data/iris.csv', delimiter=',', usecols=(5), dtype=str, skip_header=1)\n",
    "t = np.zeros(len(target), dtype=int)\n",
    "t[target == 'Iris-setosa'] = 0\n",
    "t[target == 'Iris-versicolor'] = 1\n",
    "t[target == 'Iris-virginica'] = 2\n",
    "\n",
    "# use different colors and markers for each label\n",
    "markers = ['o', 's', 'D']\n",
    "colors = ['C0', 'C1', 'C2']\n",
    "for cnt, xx in enumerate(data):\n",
    "    w = som.winner(xx)  # getting the winner\n",
    "    # palce a marker on the winning position for the sample xx\n",
    "    plt.plot(w[0]+.5, w[1]+.5, markers[t[cnt]], markerfacecolor='None',\n",
    "             markeredgecolor=colors[t[cnt]], markersize=12, markeredgewidth=2)\n",
    "plt.axis([0, 7, 0, 7])\n",
    "plt.show()"
   ]
  },
  {
   "cell_type": "code",
   "execution_count": 7,
   "metadata": {},
   "outputs": [
    {
     "name": "stdout",
     "output_type": "stream",
     "text": [
      "Epoch 0;    Neuron [0, 2];    \tSigma: 5.0000;    alpha: 0.6000\n",
      "Epoch 1;    Neuron [8, 6];    \tSigma: 5.0000;    alpha: 0.6000\n",
      "Epoch 2;    Neuron [6, 9];    \tSigma: 5.0000;    alpha: 0.6000\n",
      "Epoch 3;    Neuron [3, 6];    \tSigma: 4.9999;    alpha: 0.6000\n",
      "Epoch 4;    Neuron [6, 3];    \tSigma: 4.9998;    alpha: 0.6000\n",
      "Epoch 5;    Neuron [4, 3];    \tSigma: 4.9995;    alpha: 0.5999\n",
      "Epoch 6;    Neuron [9, 9];    \tSigma: 4.9989;    alpha: 0.5999\n",
      "Epoch 7;    Neuron [1, 1];    \tSigma: 4.9980;    alpha: 0.5998\n",
      "Epoch 8;    Neuron [7, 8];    \tSigma: 4.9966;    alpha: 0.5996\n",
      "Epoch 9;    Neuron [9, 4];    \tSigma: 4.9945;    alpha: 0.5993\n",
      "Epoch 10;    Neuron [3, 1];    \tSigma: 4.9917;    alpha: 0.5990\n",
      "Epoch 11;    Neuron [4, 3];    \tSigma: 4.9878;    alpha: 0.5985\n",
      "Epoch 12;    Neuron [9, 5];    \tSigma: 4.9828;    alpha: 0.5979\n",
      "Epoch 13;    Neuron [5, 4];    \tSigma: 4.9763;    alpha: 0.5972\n",
      "Epoch 14;    Neuron [6, 4];    \tSigma: 4.9682;    alpha: 0.5962\n",
      "Epoch 15;    Neuron [3, 8];    \tSigma: 4.9582;    alpha: 0.5950\n",
      "Epoch 16;    Neuron [0, 9];    \tSigma: 4.9460;    alpha: 0.5935\n",
      "Epoch 17;    Neuron [1, 2];    \tSigma: 4.9314;    alpha: 0.5918\n",
      "Epoch 18;    Neuron [7, 3];    \tSigma: 4.9141;    alpha: 0.5897\n",
      "Epoch 19;    Neuron [4, 1];    \tSigma: 4.8938;    alpha: 0.5873\n",
      "Epoch 20;    Neuron [2, 5];    \tSigma: 4.8702;    alpha: 0.5844\n",
      "Epoch 21;    Neuron [4, 0];    \tSigma: 4.8431;    alpha: 0.5812\n",
      "Epoch 22;    Neuron [0, 8];    \tSigma: 4.8122;    alpha: 0.5775\n",
      "Epoch 23;    Neuron [5, 3];    \tSigma: 4.7773;    alpha: 0.5733\n",
      "Epoch 24;    Neuron [2, 5];    \tSigma: 4.7382;    alpha: 0.5686\n",
      "Epoch 25;    Neuron [5, 0];    \tSigma: 4.6946;    alpha: 0.5633\n",
      "Epoch 26;    Neuron [7, 2];    \tSigma: 4.6463;    alpha: 0.5576\n",
      "Epoch 27;    Neuron [2, 5];    \tSigma: 4.5934;    alpha: 0.5512\n",
      "Epoch 28;    Neuron [5, 8];    \tSigma: 4.5356;    alpha: 0.5443\n",
      "Epoch 29;    Neuron [0, 1];    \tSigma: 4.4730;    alpha: 0.5368\n",
      "Epoch 30;    Neuron [0, 6];    \tSigma: 4.4056;    alpha: 0.5287\n",
      "Epoch 31;    Neuron [0, 9];    \tSigma: 4.3334;    alpha: 0.5200\n",
      "Epoch 32;    Neuron [4, 8];    \tSigma: 4.2566;    alpha: 0.5108\n",
      "Epoch 33;    Neuron [5, 3];    \tSigma: 4.1753;    alpha: 0.5010\n",
      "Epoch 34;    Neuron [3, 5];    \tSigma: 4.0897;    alpha: 0.4908\n",
      "Epoch 35;    Neuron [7, 3];    \tSigma: 4.0002;    alpha: 0.4800\n",
      "Epoch 36;    Neuron [3, 1];    \tSigma: 3.9070;    alpha: 0.4688\n",
      "Epoch 37;    Neuron [7, 3];    \tSigma: 3.8105;    alpha: 0.4573\n",
      "Epoch 38;    Neuron [2, 4];    \tSigma: 3.7111;    alpha: 0.4453\n",
      "Epoch 39;    Neuron [0, 6];    \tSigma: 3.6092;    alpha: 0.4331\n",
      "Epoch 40;    Neuron [2, 7];    \tSigma: 3.5053;    alpha: 0.4206\n",
      "Epoch 41;    Neuron [8, 0];    \tSigma: 3.3998;    alpha: 0.4080\n",
      "Epoch 42;    Neuron [8, 0];    \tSigma: 3.2932;    alpha: 0.3952\n",
      "Epoch 43;    Neuron [5, 8];    \tSigma: 3.1858;    alpha: 0.3823\n",
      "Epoch 44;    Neuron [0, 0];    \tSigma: 3.0783;    alpha: 0.3694\n",
      "Epoch 45;    Neuron [0, 7];    \tSigma: 2.9709;    alpha: 0.3565\n",
      "Epoch 46;    Neuron [4, 4];    \tSigma: 2.8640;    alpha: 0.3437\n",
      "Epoch 47;    Neuron [3, 5];    \tSigma: 2.7582;    alpha: 0.3310\n",
      "Epoch 48;    Neuron [6, 0];    \tSigma: 2.6537;    alpha: 0.3184\n",
      "Epoch 49;    Neuron [0, 1];    \tSigma: 2.5508;    alpha: 0.3061\n",
      "Epoch 50;    Neuron [2, 6];    \tSigma: 2.4498;    alpha: 0.2940\n",
      "Epoch 51;    Neuron [5, 0];    \tSigma: 2.3509;    alpha: 0.2821\n",
      "Epoch 52;    Neuron [0, 3];    \tSigma: 2.2544;    alpha: 0.2705\n",
      "Epoch 53;    Neuron [3, 2];    \tSigma: 2.1605;    alpha: 0.2593\n",
      "Epoch 54;    Neuron [1, 8];    \tSigma: 2.0693;    alpha: 0.2483\n",
      "Epoch 55;    Neuron [7, 5];    \tSigma: 1.9809;    alpha: 0.2377\n",
      "Epoch 56;    Neuron [9, 8];    \tSigma: 1.8953;    alpha: 0.2274\n",
      "Epoch 57;    Neuron [1, 8];    \tSigma: 1.8127;    alpha: 0.2175\n",
      "Epoch 58;    Neuron [6, 3];    \tSigma: 1.7332;    alpha: 0.2080\n",
      "Epoch 59;    Neuron [7, 5];    \tSigma: 1.6566;    alpha: 0.1988\n",
      "Epoch 60;    Neuron [8, 5];    \tSigma: 1.5829;    alpha: 0.1900\n",
      "Epoch 61;    Neuron [5, 7];    \tSigma: 1.5123;    alpha: 0.1815\n",
      "Epoch 62;    Neuron [7, 4];    \tSigma: 1.4446;    alpha: 0.1734\n",
      "Epoch 63;    Neuron [0, 1];    \tSigma: 1.3797;    alpha: 0.1656\n",
      "Epoch 64;    Neuron [6, 7];    \tSigma: 1.3177;    alpha: 0.1581\n",
      "Epoch 65;    Neuron [5, 2];    \tSigma: 1.2584;    alpha: 0.1510\n",
      "Epoch 66;    Neuron [6, 1];    \tSigma: 1.2018;    alpha: 0.1442\n",
      "Epoch 67;    Neuron [9, 8];    \tSigma: 1.1477;    alpha: 0.1377\n",
      "Epoch 68;    Neuron [4, 2];    \tSigma: 1.0962;    alpha: 0.1315\n",
      "Epoch 69;    Neuron [4, 0];    \tSigma: 1.0470;    alpha: 0.1256\n",
      "Epoch 70;    Neuron [9, 5];    \tSigma: 1.0002;    alpha: 0.1200\n",
      "Epoch 71;    Neuron [2, 5];    \tSigma: 0.9555;    alpha: 0.1147\n",
      "Epoch 72;    Neuron [4, 8];    \tSigma: 0.9130;    alpha: 0.1096\n",
      "Epoch 73;    Neuron [1, 7];    \tSigma: 0.8726;    alpha: 0.1047\n",
      "Epoch 74;    Neuron [9, 3];    \tSigma: 0.8341;    alpha: 0.1001\n",
      "Epoch 75;    Neuron [4, 6];    \tSigma: 0.7974;    alpha: 0.0957\n",
      "Epoch 76;    Neuron [5, 1];    \tSigma: 0.7626;    alpha: 0.0915\n",
      "Epoch 77;    Neuron [7, 5];    \tSigma: 0.7294;    alpha: 0.0875\n",
      "Epoch 78;    Neuron [6, 3];    \tSigma: 0.6978;    alpha: 0.0837\n",
      "Epoch 79;    Neuron [6, 5];    \tSigma: 0.6678;    alpha: 0.0801\n",
      "Epoch 80;    Neuron [7, 3];    \tSigma: 0.6392;    alpha: 0.0767\n",
      "Epoch 81;    Neuron [2, 5];    \tSigma: 0.6120;    alpha: 0.0734\n",
      "Epoch 82;    Neuron [8, 8];    \tSigma: 0.5861;    alpha: 0.0703\n",
      "Epoch 83;    Neuron [4, 4];    \tSigma: 0.5615;    alpha: 0.0674\n",
      "Epoch 84;    Neuron [9, 5];    \tSigma: 0.5381;    alpha: 0.0646\n",
      "Epoch 85;    Neuron [3, 2];    \tSigma: 0.5157;    alpha: 0.0619\n",
      "Epoch 86;    Neuron [7, 2];    \tSigma: 0.4945;    alpha: 0.0593\n",
      "Epoch 87;    Neuron [8, 2];    \tSigma: 0.4743;    alpha: 0.0569\n",
      "Epoch 88;    Neuron [4, 2];    \tSigma: 0.4550;    alpha: 0.0546\n",
      "Epoch 89;    Neuron [6, 2];    \tSigma: 0.4367;    alpha: 0.0524\n",
      "Epoch 90;    Neuron [6, 3];    \tSigma: 0.4192;    alpha: 0.0503\n",
      "Epoch 91;    Neuron [7, 1];    \tSigma: 0.4025;    alpha: 0.0483\n",
      "Epoch 92;    Neuron [2, 2];    \tSigma: 0.3866;    alpha: 0.0464\n",
      "Epoch 93;    Neuron [6, 4];    \tSigma: 0.3715;    alpha: 0.0446\n",
      "Epoch 94;    Neuron [3, 5];    \tSigma: 0.3570;    alpha: 0.0428\n",
      "Epoch 95;    Neuron [7, 1];    \tSigma: 0.3432;    alpha: 0.0412\n",
      "Epoch 96;    Neuron [9, 6];    \tSigma: 0.3301;    alpha: 0.0396\n",
      "Epoch 97;    Neuron [0, 6];    \tSigma: 0.3175;    alpha: 0.0381\n",
      "Epoch 98;    Neuron [9, 0];    \tSigma: 0.3056;    alpha: 0.0367\n",
      "Epoch 99;    Neuron [1, 8];    \tSigma: 0.2941;    alpha: 0.0353\n"
     ]
    }
   ],
   "source": [
    "from SOM import som\n",
    "import imageio\n",
    "\n",
    "# generate some random data with 36 features\n",
    "data1 = np.random.normal(loc=-.25, scale=0.5, size=(100, 3))\n",
    "data2 = np.random.normal(loc=.25, scale=0.5, size=(100, 3))\n",
    "data = np.vstack((data1, data2))\n",
    "\n",
    "targets = 100 * [0] + 100 * [1]  # create some dummy target values\n",
    "som = som.SOM(10, 10)  # initialize the SOM\n",
    "\n",
    "images = som.fit(data, targets, 100)"
   ]
  },
  {
   "cell_type": "code",
   "execution_count": 8,
   "metadata": {},
   "outputs": [],
   "source": [
    "imageio.mimwrite('./Images/som-learning.gif', np.array(images), fps=1)"
   ]
  },
  {
   "cell_type": "markdown",
   "metadata": {},
   "source": [
    "<img src=\"./Images/som-learning.gif\" />"
   ]
  },
  {
   "cell_type": "code",
   "execution_count": null,
   "metadata": {},
   "outputs": [],
   "source": []
  }
 ],
 "metadata": {
  "kernelspec": {
   "display_name": "Python 3",
   "language": "python",
   "name": "python3"
  },
  "language_info": {
   "codemirror_mode": {
    "name": "ipython",
    "version": 3
   },
   "file_extension": ".py",
   "mimetype": "text/x-python",
   "name": "python",
   "nbconvert_exporter": "python",
   "pygments_lexer": "ipython3",
   "version": "3.6.4"
  }
 },
 "nbformat": 4,
 "nbformat_minor": 2
}
