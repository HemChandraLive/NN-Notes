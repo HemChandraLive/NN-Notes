{
 "cells": [
  {
   "cell_type": "markdown",
   "metadata": {},
   "source": [
    "# Linear Decision Boundary by a Perceptron"
   ]
  },
  {
   "cell_type": "markdown",
   "metadata": {},
   "source": [
    "## Perceptron\n",
    "\n",
    "The Perceptron is the first generation of neural networks. It was modeled to emulate the learning behaviour of our brain. \n",
    "\n",
    "A perceptron can be visualized as follows:\n",
    "\n",
    "![Perceptron](images/perceptron.png)"
   ]
  },
  {
   "cell_type": "markdown",
   "metadata": {},
   "source": [
    "---\n",
    "The <span style=\"color:blue\">blue</span> nodes are the inputs to the neuron.\n",
    "\n",
    "The <span style=\"color:green\">green</span> nodes are the weights that are learned by the Perceptron algorithm."
   ]
  },
  {
   "cell_type": "markdown",
   "metadata": {},
   "source": [
    "## The Weighted Sum\n",
    "\n",
    "Consider the above diagram, we have, $n + 1$ inputs and $n + 1$ corresponding weights. \n",
    "\n",
    "The weighted sum refers to the process of multiplying the $i$th input to it's corresponding $i$th weight, *i.e.*\n",
    "\n",
    "$$\n",
    "\\begin{align}\n",
    "x_{0} * w_{0} + x_{1} * w_{1} + x_{2} * w_{2} + ... + x_{n} * w_{n}\n",
    "\\end{align}\n",
    "$$\n",
    "\n",
    "### Weighted Sum\n",
    "\n",
    "$\n",
    "\\begin{align}\n",
    "z = \\sum_{i=0}^{i=n} x_{i}w_{i}\n",
    "\\end{align}\n",
    "$\n",
    "\n",
    "Notice that the first input is 1, which boils the equation down to\n",
    "\n",
    "$\n",
    "\\begin{align}\n",
    "z = \\sum_{i=1}^{i=n} x_{i}w_{i} + w_{0}\n",
    "\\end{align}\n",
    "$\n",
    "\n",
    "The $w_{0}$ term is called as bais term as is often written as $b$\n",
    "\n",
    "$\n",
    "\\begin{align}\n",
    "z = \\sum_{i=1}^{i=n} x_{i}w_{i} + b\n",
    "\\end{align}\n",
    "$\n",
    "\n"
   ]
  },
  {
   "cell_type": "markdown",
   "metadata": {},
   "source": [
    "## The Activation function\n",
    "\n",
    "Finally the result of the above summation is run through a function (typically non-linear), this function is know as the activation function. \n",
    "\n",
    "Their main purpose is to convert an input signal of a neuron in the Perceptron network to an output signal. This output signal is then used to make a decision about the class that the input pattern belongs to.\n",
    "\n",
    "In the above diagram, the activation function is defined as follows:\n",
    "\n",
    "$$\n",
    "\\begin{align}\n",
    "  \\text{g}(z) =\n",
    "  \\begin{cases}\n",
    "            1 & \\text{if} \\ z \\ge \\theta \\\\\n",
    "            0 & \\text{otherwise} \\\\\n",
    "  \\end{cases}\n",
    "\\end{align}\n",
    "$$\n",
    "\n",
    "The above funtion is know as the *Heaviside step function*."
   ]
  },
  {
   "cell_type": "markdown",
   "metadata": {},
   "source": [
    "## The decision boundary\n",
    "\n",
    "Consider two vector that each belong to a different class(say *A* and *B*). The Perceptron can be used to classify them into their respective classes. \n",
    "\n",
    "We can say that the input vector belongs to the,<span style=\"color:red\"><b>class A</b></span> if it fires(the output of the activation function is high) otherwise, it belongs to <span style=\"color:blue\"><b>class B</b></span>.\n"
   ]
  },
  {
   "cell_type": "code",
   "execution_count": 1,
   "metadata": {},
   "outputs": [],
   "source": [
    "%load_ext autoreload"
   ]
  },
  {
   "cell_type": "code",
   "execution_count": 2,
   "metadata": {},
   "outputs": [
    {
     "data": {
      "text/plain": [
       "<Figure size 640x480 with 1 Axes>"
      ]
     },
     "metadata": {},
     "output_type": "display_data"
    }
   ],
   "source": [
    "%autoreload 2\n",
    "from figures import figure1\n",
    "# Point 1, it will be the red line and belong to class 0\n",
    "p1 = [10, -8]\n",
    "# Point 2, it will be the blue line and belong to class 1\n",
    "p2 = [10, 5]\n",
    "figure1.draw([p1, p2])"
   ]
  },
  {
   "cell_type": "markdown",
   "metadata": {},
   "source": [
    "The green line is the weight vector learned $w^{*}$"
   ]
  },
  {
   "cell_type": "markdown",
   "metadata": {},
   "source": [
    "## Decision boundary for AND and OR"
   ]
  },
  {
   "cell_type": "code",
   "execution_count": 3,
   "metadata": {},
   "outputs": [
    {
     "data": {
      "image/png": "[encoded data removed]",
      "text/plain": [
       "<Figure size 432x288 with 1 Axes>"
      ]
     },
     "metadata": {
      "needs_background": "light"
     },
     "output_type": "display_data"
    }
   ],
   "source": [
    "from figures import and_boundary\n",
    "and_boundary.fit()"
   ]
  },
  {
   "cell_type": "code",
   "execution_count": 4,
   "metadata": {},
   "outputs": [
    {
     "data": {
      "image/png": "[encoded data removed]",
      "text/plain": [
       "<Figure size 432x288 with 1 Axes>"
      ]
     },
     "metadata": {
      "needs_background": "light"
     },
     "output_type": "display_data"
    }
   ],
   "source": [
    "from figures import or_boundary\n",
    "or_boundary.fit()"
   ]
  },
  {
   "cell_type": "code",
   "execution_count": null,
   "metadata": {},
   "outputs": [],
   "source": []
  }
 ],
 "metadata": {
  "kernelspec": {
   "display_name": "Python 3",
   "language": "python",
   "name": "python3"
  },
  "language_info": {
   "codemirror_mode": {
    "name": "ipython",
    "version": 3
   },
   "file_extension": ".py",
   "mimetype": "text/x-python",
   "name": "python",
   "nbconvert_exporter": "python",
   "pygments_lexer": "ipython3",
   "version": "3.7.0"
  }
 },
 "nbformat": 4,
 "nbformat_minor": 2
}
