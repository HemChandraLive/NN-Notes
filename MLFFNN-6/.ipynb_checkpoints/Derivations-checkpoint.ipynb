{
 "cells": [
  {
   "cell_type": "markdown",
   "metadata": {},
   "source": [
    "# Derivation of Back Propagation equations\n",
    "\n",
    "Before we look into the derivations we list the loss funcions and the activation functions below:\n",
    "\n"
   ]
  },
  {
   "cell_type": "markdown",
   "metadata": {},
   "source": [
    "## Loss functions\n",
    "\n",
    "A loss function is used to map a *cost* associated with an event. An optimization problem seeks to minimize the cost or loss.\n",
    "\n",
    "Some common loss functions are:\n",
    "\n",
    "### Mean squared error\n",
    "$$\n",
    "\\text{E} =\\sum_{i=1}^{N} \\frac{1}{2} (y_{i} - y_{d})^2\n",
    "$$\n",
    "Here $y_i$ is the actual output and $y_d$ is the desired output\n",
    "\n",
    "### Cross-entropy loss\n",
    "$$\n",
    "\\text{E} = -\\bigg\\{\\sum_{i=1}^N y_{id}\\log y_i + (1 - y_{id})\\log(1 - y_{i})\\bigg\\}\n",
    "$$\n",
    "Here $y_i$ is the actual output and $y_d$ is the desired output\n",
    "\n",
    "### L1 loss function\n",
    "$$\n",
    "\\sum_{i=1}^{N} \\bigg\\lvert y_{i} - y_{d} \\bigg\\rvert\n",
    "$$\n",
    "Here $y_i$ is the actual output and $y_d$ is the desired output"
   ]
  },
  {
   "cell_type": "markdown",
   "metadata": {},
   "source": [
    "## Activation functions\n",
    "\n",
    "![Activation functions](Images/activations.png)"
   ]
  },
  {
   "cell_type": "markdown",
   "metadata": {},
   "source": [
    "## Derivation with update equation using Mean-Squared-error\n",
    "\n",
    "$$\n",
    "\\text{E} =\\sum_{i=1}^{N} \\frac{1}{2} (y_{i} - y_{d})^2\n",
    "$$\n",
    "\n",
    "We know,\n",
    "\n",
    "$\n",
    "\\Delta w_{ij} = -\\eta \\frac{\\partial \\text{E}}{\\partial w_{ij}}\n",
    "$\n"
   ]
  },
  {
   "cell_type": "code",
   "execution_count": null,
   "metadata": {},
   "outputs": [],
   "source": []
  }
 ],
 "metadata": {
  "kernelspec": {
   "display_name": "Python 3",
   "language": "python",
   "name": "python3"
  },
  "language_info": {
   "codemirror_mode": {
    "name": "ipython",
    "version": 3
   },
   "file_extension": ".py",
   "mimetype": "text/x-python",
   "name": "python",
   "nbconvert_exporter": "python",
   "pygments_lexer": "ipython3",
   "version": "3.7.0"
  }
 },
 "nbformat": 4,
 "nbformat_minor": 2
}
