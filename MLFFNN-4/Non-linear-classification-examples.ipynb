{
 "cells": [
  {
   "cell_type": "markdown",
   "metadata": {},
   "source": [
    "# Non linear classification examples"
   ]
  },
  {
   "cell_type": "markdown",
   "metadata": {},
   "source": [
    "One of the staple features of the multi layer layer feed forward neural network is that it can learn non-linear boundaries.\n",
    "\n",
    "This is section presents the most simple and widely used non-linear classification exmaple: the **XOR** problem."
   ]
  },
  {
   "cell_type": "markdown",
   "metadata": {},
   "source": [
    "## XOR\n",
    "\n",
    "The truth table for **XOR** is given below\n",
    "\n",
    "|X|Y|Output|\n",
    "|:---:|:---:|:---:|\n",
    "|0|0|0|\n",
    "|0|1|1|\n",
    "|1|0|1|\n",
    "|1|1|0|\n",
    "\n",
    "$$\n",
    "Y = X_1 \\oplus X_2\n",
    "$$"
   ]
  },
  {
   "cell_type": "markdown",
   "metadata": {},
   "source": [
    "![XOR](Images/xor.png)"
   ]
  },
  {
   "cell_type": "markdown",
   "metadata": {},
   "source": [
    "It is very clear from the above plot that we cannot have a single boundary separating the data in two seperate classes. We need at least 2 linear boundaries.\n",
    "\n",
    "Therefore, a single perceptron will fail to solve the **XOR** problem.\n",
    "\n",
    "Consider $(0,0)\\  and \\ (1,1) \\mapsto 1 \\\\ (1,0)\\ and \\ (0, 1) \\mapsto 0$\n",
    "\n",
    "Then a single perceptron will have to solve the following equations:\n",
    "\n",
    "$\n",
    "w_1 + w_2 \\ge \\theta ...(1)\\\\\n",
    "$\n",
    "\n",
    "$\n",
    "\\theta \\ge 0 ...(2)\\\\\n",
    "$\n",
    "\n",
    "$\n",
    "w_1 \\lt \\theta ...(3)\\\\\n",
    "$\n",
    "\n",
    "$\n",
    "w_2 \\lt \\theta ...(4)\\\\\n",
    "$\n",
    "\n",
    "The above four inequalities are impossoble to solve\n",
    "\n",
    "The solution is to make use of more than one perceptron to learn the features"
   ]
  },
  {
   "cell_type": "markdown",
   "metadata": {},
   "source": [
    "![Solution](Images/solution.png)"
   ]
  },
  {
   "cell_type": "markdown",
   "metadata": {},
   "source": [
    "Each green line is a decision boundary that a perceptron learns. We have used two perceptrons to solve the **XOR** problem.\n",
    "\n"
   ]
  },
  {
   "cell_type": "code",
   "execution_count": null,
   "metadata": {},
   "outputs": [],
   "source": []
  }
 ],
 "metadata": {
  "kernelspec": {
   "display_name": "Python 3",
   "language": "python",
   "name": "python3"
  },
  "language_info": {
   "codemirror_mode": {
    "name": "ipython",
    "version": 3
   },
   "file_extension": ".py",
   "mimetype": "text/x-python",
   "name": "python",
   "nbconvert_exporter": "python",
   "pygments_lexer": "ipython3",
   "version": "3.7.0"
  }
 },
 "nbformat": 4,
 "nbformat_minor": 2
}
