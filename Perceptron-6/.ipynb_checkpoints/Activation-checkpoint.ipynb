{
 "cells": [
  {
   "cell_type": "markdown",
   "metadata": {},
   "source": [
    "## Activation Function\n",
    "Activation Function on  a node is defined as the output that is desired for  a given set of input values. There are two types of Activation Functions\n",
    "<ol>\n",
    "    <li>Linear Activation Function</li>\n",
    "    <li>Non Linear Activation Function</li>\n",
    "        <ul>\n",
    "            <li>Binary Threshold Unit (BTU)</li>\n",
    "            <li>Rectified Linear Neuron</li>\n",
    "            <li>Sigmoid</li>\n",
    "            <li>Tanhx</li>\n",
    "    </ul>\n",
    "    </ol>\n",
    "    \n",
    "Now let us see each one of them in detail."
   ]
  },
  {
   "cell_type": "markdown",
   "metadata": {},
   "source": [
    "### Linear Activation Function\n",
    "It is defined by the funtion. Realising this activation function is simple but it is computationally limited.\n",
    "\n",
    "<b>Function:</b>\n",
    "$ \\begin{align}\n",
    "       y=x\n",
    "        \\end{align}\n",
    "        $\n",
    "        \n",
    "<b>Mapping Domain and Range: </b>\n",
    "$ \\begin {align} f:(-\\infty,\\infty) \\mapsto (-\\infty,\\infty) \\end {align} $\n",
    "\n"
   ]
  },
  {
   "cell_type": "markdown",
   "metadata": {},
   "source": [
    "### Non Linear Activation Function\n",
    "\n",
    "These introduce non linear properties to the neural network. Using a non linear Activation we will be able to generate non-linear mappings from inputs to outputs"
   ]
  },
  {
   "cell_type": "markdown",
   "metadata": {},
   "source": [
    "<b> 1) Binary Threshold Unit: </b>\n",
    "<ul>\n",
    "    <li>It is also called as the Threshold Logic Unit (TLU).</li>\n",
    "    <li>The output is either 0 or 1 hence, it is Unipolar Binary Neuron. (Bipolar Binary Neurons output is -1 or +1 )</li>\n",
    "    <li>The problem with this activation function is that even though it is non linear it is discontinuous at 0 and hence it is not differentiable.</li>\n",
    "    <li>Hence it cant be used in Gradient descent optimization technique.</li>\n",
    "</ul>\n",
    "\n",
    "\n",
    "\n",
    "\n",
    "\n",
    " \n",
    "\n",
    "\n",
    "<b>Function:</b>\n",
    "\n",
    "1) Consider $ \\begin {align} z=\\Sigma  x_iw_i \\end{align} $, and  $ \\begin {align} \\theta=-b\\end{align} $ then\n",
    "\n",
    "$\n",
    "y\\quad=\\quad\n",
    "  \\begin{cases}\n",
    "    1       & \\quad \\text{if} \\quad z > \\theta \\\\\n",
    "    0  & \\quad \\text{otherwise } \n",
    "  \\end{cases}\n",
    "$\n",
    "\n",
    " \n",
    "2) Consider $ \\begin {align} z=b+\\Sigma  x_iw_i \\end{align} $, then\n",
    "\n",
    "$\n",
    "y\\quad=\\quad\n",
    "  \\begin{cases}\n",
    "    1       & \\quad \\text{if} \\quad z > 0 \\\\\n",
    "    0  & \\quad \\text{otherwise } \n",
    "  \\end{cases}\n",
    "$\n",
    "\n",
    " \n",
    "<b> Mapping Domain and Range: </b>$ \\begin {align} f:(-\\infty,\\infty) \\mapsto [0,1] \\end {align} $\n",
    " \n"
   ]
  },
  {
   "cell_type": "markdown",
   "metadata": {},
   "source": [
    "<b> 2) Rectified Linear Unit: </b>\n",
    "<ul>\n",
    "    <li>This is also popularly called as <b>Relu</b> activation function.</li>\n",
    "    <li>It is partly linear and partly non linear.</li>\n",
    "    <li>The output is zero for all the negative values.</li>\n",
    "    <li>That is the output does not change with the change in the negative values of input.</li>\n",
    "    <li>It is simple and is more efficient. It is mainly used in the vanishing gradient problems.</li>\n",
    "\n",
    "\n",
    "</ul>\n",
    "<b>Function:</b>\n",
    " \n",
    "Consider $ \\begin {align} z=b+\\Sigma  x_iw_i \\end{align} $, then\n",
    "\n",
    "$\n",
    "y\\quad=\\quad\n",
    "  \\begin{cases}\n",
    "    z       & \\quad \\text{if} \\quad z > 0 \\\\\n",
    "    0  & \\quad \\text{otherwise } \n",
    "  \\end{cases}\n",
    "$\n",
    "\n",
    " \n",
    "<b> Mapping Domain and Range: </b>$ \\begin {align} f:(-\\infty,\\infty) \\mapsto [0,\\infty) \\end {align} $\n",
    " \n"
   ]
  },
  {
   "cell_type": "markdown",
   "metadata": {},
   "source": [
    "<b> 3) Sigmoid: </b>\n",
    "<ul>\n",
    "    <li>It is fully non linear and is used in many Neural Networks.</li>\n",
    "    <li>Used mainly in the binary classification problems.</li>\n",
    "    <li>It is also called as the Logistic function.</li>\n",
    "    <li>There is no discontinuity and hence derivative can be easily computed.</li>\n",
    "    <li>The output is not zero centered.</li>\n",
    "    <li>It is observed that in mapping the large range of input is mapped to very small range of output. Hence it makes it very convienient to analize the output. </li>\n",
    "</ul> \n",
    "<b>Function:</b>\n",
    " \n",
    "Consider $ \\begin {align} z=b+\\Sigma  x_iw_i \\end{align} $, then\n",
    "\n",
    " $\\begin {align} y \\quad =  \\frac{1}{(1+{e}^{-x})}\n",
    " \\end{align} $\n",
    " \n",
    "<b> Mapping Domain and Range: </b>$ \\begin {align} f:(-\\infty,\\infty) \\mapsto (0,1) \\end {align} $\n",
    "\n",
    " \n",
    " \n",
    " <b>Derivative:</b> $\\begin {align} y \\quad =\\quad y*(1-y)\\end{align} $\n"
   ]
  },
  {
   "cell_type": "markdown",
   "metadata": {},
   "source": [
    "<b> 4) Tanhx: </b>\n",
    "<ul>\n",
    "    <li>It is fully non linear</li>\n",
    "    <li>Output lies in the range of -1 and +1 and is zero centered.</li>\n",
    "    <li>As it is zero centered, sometimes it is prefered more than Sigmoid function. But it still faces the Vanishing gradient problem</li>\n",
    "    <li>Similar to Sigmoid activation function here also it is observed that in mapping the large range of input is mapped to very small range of output. Hence it makes it very convienient to analize the output. </li>\n",
    "</ul> \n",
    "\n",
    "\n",
    "<b>Function:</b>\n",
    " \n",
    "Consider $ \\begin {align} z=b+\\Sigma  x_iw_i \\end{align} $, then\n",
    "\n",
    " $\\begin {align} y \\quad =  \\frac{({e}^{x}-{e}^{-x})}{({e}^{x}+{e}^{-x})}\n",
    " \\end{align} $\n",
    " \n",
    "<b> Mapping Domain and Range: </b>$ \\begin {align} f:(-\\infty,\\infty) \\mapsto (-1,1) \\end {align} $\n",
    "\n"
   ]
  }
 ],
 "metadata": {
  "kernelspec": {
   "display_name": "Python 3",
   "language": "python",
   "name": "python3"
  },
  "language_info": {
   "codemirror_mode": {
    "name": "ipython",
    "version": 3
   },
   "file_extension": ".py",
   "mimetype": "text/x-python",
   "name": "python",
   "nbconvert_exporter": "python",
   "pygments_lexer": "ipython3",
   "version": "3.6.5"
  }
 },
 "nbformat": 4,
 "nbformat_minor": 2
}
