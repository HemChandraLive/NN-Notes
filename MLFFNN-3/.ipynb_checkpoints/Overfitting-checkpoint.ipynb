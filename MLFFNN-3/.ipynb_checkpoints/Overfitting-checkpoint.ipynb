{
 "cells": [
  {
   "cell_type": "markdown",
   "metadata": {},
   "source": [
    "## Overfitting\n",
    "\n",
    "One of the problems that occur during neural network training is called overfitting. The error on the training set is driven to a very small value, but when new data is presented to the network the error is large. The network has memorized the training examples, but it has not learned to generalize to new situations.\n",
    "\n",
    "An overfitted model is a statistical model that contains more parameters than can be justified by the data. For example in  a  MLFFNN having more number of hidden units in than required leads to overfitting. If the number of hidden units are more, then each of the hidden nodes will memorise the training data and this leads to minimum generalization.\n",
    "\n",
    "In general it is suggested that the number of hidden units should be $\\frac{Number of Patterns}{10} $. Too many hidden units will cause overfitting and very less will cause underfitting.\n",
    "\n",
    "The following figure shows the response of a 1-20-1 neural network that has been trained to approximate a noisy sine function. The underlying sine function is shown by the dotted line, the noisy measurements are given by the + symbols, and the neural network response is given by the solid line. Clearly this network has overfitted the data and will not generalize well.\n",
    "<img src=\"Images/image1.png\" height=\"400\" width=\"400\"/>\n",
    "\n",
    "One method for improving network generalization is to use a network that is just large enough to provide an adequate fit. The larger network you use, the more complex the functions the network can create. If you use a small enough network, it will not have enough power to overfit the data. \n",
    "\n",
    "Unfortunately, it is difficult to know beforehand how large a network should be for a specific application. There are two other methods for improving generalization : <i><b>regularization</b></i> and <i><b>early stopping</b></i>\n",
    "\n",
    "\n",
    "Below are the results obtained after averfitting the neural network with 20 hidden nodes"
   ]
  },
  {
   "cell_type": "code",
   "execution_count": 2,
   "metadata": {},
   "outputs": [
    {
     "ename": "NameError",
     "evalue": "name 'mmffnn' is not defined",
     "output_type": "error",
     "traceback": [
      "\u001b[0;31m---------------------------------------------------------------------------\u001b[0m",
      "\u001b[0;31mNameError\u001b[0m                                 Traceback (most recent call last)",
      "\u001b[0;32m<ipython-input-2-50a0a5403eac>\u001b[0m in \u001b[0;36m<module>\u001b[0;34m()\u001b[0m\n\u001b[1;32m      1\u001b[0m \u001b[0;32mfrom\u001b[0m \u001b[0mFigures\u001b[0m \u001b[0;32mimport\u001b[0m \u001b[0mmlffnn\u001b[0m\u001b[0;34m\u001b[0m\u001b[0m\n\u001b[0;32m----> 2\u001b[0;31m \u001b[0mmmffnn\u001b[0m\u001b[0;34m.\u001b[0m\u001b[0moverFitting\u001b[0m\u001b[0;34m(\u001b[0m\u001b[0;34m)\u001b[0m\u001b[0;34m\u001b[0m\u001b[0m\n\u001b[0m",
      "\u001b[0;31mNameError\u001b[0m: name 'mmffnn' is not defined"
     ]
    }
   ],
   "source": [
    "from Figures import mlffnn\n",
    "mlffnn.overFitting()"
   ]
  }
 ],
 "metadata": {
  "kernelspec": {
   "display_name": "Python 3",
   "language": "python",
   "name": "python3"
  },
  "language_info": {
   "codemirror_mode": {
    "name": "ipython",
    "version": 3
   },
   "file_extension": ".py",
   "mimetype": "text/x-python",
   "name": "python",
   "nbconvert_exporter": "python",
   "pygments_lexer": "ipython3",
   "version": "3.6.5"
  }
 },
 "nbformat": 4,
 "nbformat_minor": 2
}
