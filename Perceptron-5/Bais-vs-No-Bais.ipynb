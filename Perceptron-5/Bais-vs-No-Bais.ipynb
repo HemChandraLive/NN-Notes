{
 "cells": [
  {
   "cell_type": "markdown",
   "metadata": {},
   "source": [
    "# Bias vs No Bais\n",
    "\n",
    "A bias term simply allows for the translation of the decision boundary that the perceptron algorithm learns. When a bias term is not included, the decision boundary has to pass through the origin. This is termed as a **homogenous** solution.\n",
    "\n",
    "A bais term in the equation will add the ability to a perceptron, to learn the decision boundary the does not pass through the origin."
   ]
  },
  {
   "cell_type": "markdown",
   "metadata": {},
   "source": [
    "## Unbaised Neuron\n",
    "\n",
    "Consider the following data set\n"
   ]
  },
  {
   "cell_type": "code",
   "execution_count": 1,
   "metadata": {},
   "outputs": [],
   "source": [
    "from Figures import figure1\n",
    "figure1.drawData()"
   ]
  },
  {
   "cell_type": "markdown",
   "metadata": {},
   "source": [
    "Let us try learning a decision boundary with a perceptron that does not include the bais term. The boundary must pass through the origin and is called as a homogenous solution."
   ]
  },
  {
   "cell_type": "code",
   "execution_count": 2,
   "metadata": {},
   "outputs": [
    {
     "data": {
      "image/png": "[encoded data removed]",
      "text/plain": [
       "<Figure size 432x288 with 1 Axes>"
      ]
     },
     "metadata": {
      "needs_background": "light"
     },
     "output_type": "display_data"
    }
   ],
   "source": [
    "figure1.drawNoBais()"
   ]
  },
  {
   "cell_type": "markdown",
   "metadata": {},
   "source": [
    "As you can observe the algorithm fails to classify an entire class correctly. The above data set that was presented to the Perceptron is linearly separable, yet, it fails to classify the data correctly.\n",
    "\n",
    "This phenomenon can be attributed to the fact that, without a bias term, the boundary must pass through the origin. With this additional restriction that is imposed on the perceptron, we can conclude by a simple observation of the data set that, such a boundary cannot be found.\n",
    "\n",
    "You cannot find a linear boundary that passes through the origin and that seperates the above data perfectly."
   ]
  },
  {
   "cell_type": "markdown",
   "metadata": {},
   "source": [
    "## Biased Neuron"
   ]
  },
  {
   "cell_type": "code",
   "execution_count": 3,
   "metadata": {},
   "outputs": [
    {
     "name": "stderr",
     "output_type": "stream",
     "text": [
      "UsageError: Line magic function `%autoreload` not found.\n"
     ]
    }
   ],
   "source": [
    "from Figures import figure2\n",
    "figure2.drawBais()"
   ]
  },
  {
   "cell_type": "markdown",
   "metadata": {},
   "source": [
    "We now are able to classify the linearly separable dataset perfectly as we should be.\n",
    "\n",
    "We are now able to learn a decision boundary that need not pass from the origin. The bais term that we have now included in the algorithm allows the boundary to have some intercept on both the axes. \n",
    "\n",
    "The above soloution is called a **non-homogenous** solution."
   ]
  },
  {
   "cell_type": "code",
   "execution_count": null,
   "metadata": {},
   "outputs": [],
   "source": []
  }
 ],
 "metadata": {
  "kernelspec": {
   "display_name": "Python 3",
   "language": "python",
   "name": "python3"
  },
  "language_info": {
   "codemirror_mode": {
    "name": "ipython",
    "version": 3
   },
   "file_extension": ".py",
   "mimetype": "text/x-python",
   "name": "python",
   "nbconvert_exporter": "python",
   "pygments_lexer": "ipython3",
   "version": "3.6.4"
  }
 },
 "nbformat": 4,
 "nbformat_minor": 2
}
